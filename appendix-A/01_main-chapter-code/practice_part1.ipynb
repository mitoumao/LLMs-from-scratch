{
 "cells": [
  {
   "cell_type": "code",
   "execution_count": 1,
   "metadata": {},
   "outputs": [
    {
     "name": "stdout",
     "output_type": "stream",
     "text": [
      "2.5.1+cu118\n"
     ]
    }
   ],
   "source": [
    "import torch\n",
    "print(torch.__version__)"
   ]
  },
  {
   "cell_type": "code",
   "execution_count": 2,
   "metadata": {},
   "outputs": [],
   "source": [
    "class NeuralNetwork(torch.nn.Module):\n",
    "    def __init__(self, num_inputs, num_outputs):\n",
    "        super().__init__()\n",
    "        \n",
    "        self.layers = torch.nn.Sequential(\n",
    "            torch.nn.Linear(num_inputs, 50),\n",
    "            torch.nn.ReLU(),\n",
    "            torch.nn.Linear(50, 30),\n",
    "            torch.nn.ReLU(),\n",
    "            torch.nn.Linear(30, num_outputs),\n",
    "        )\n",
    "        \n",
    "    def forward(self, x):\n",
    "        logits = self.layers(x)\n",
    "        return logits "
   ]
  },
  {
   "cell_type": "code",
   "execution_count": 3,
   "metadata": {},
   "outputs": [],
   "source": [
    "from torch.utils.data import Dataset, DataLoader\n",
    "\n",
    "class ToyDataset(Dataset):\n",
    "    def __init__(self, X, y):\n",
    "        self.features = X\n",
    "        self.labels = y\n",
    "        \n",
    "    def __getitem__(self, index):\n",
    "        one_X = self.features[index]\n",
    "        one_y = self.labels[index]\n",
    "        return one_X, one_y\n",
    "    \n",
    "    def __len__(self):\n",
    "        return self.labels.shape[0]    "
   ]
  },
  {
   "cell_type": "code",
   "execution_count": 4,
   "metadata": {},
   "outputs": [],
   "source": [
    "x_train = torch.tensor([\n",
    "    [1.0, 2.2],\n",
    "    [3.4, -0.5],\n",
    "    [4.3, 6.0], \n",
    "    [1.2, 3.9], \n",
    "    [-0.2, 2.4], \n",
    "    [3.5, -7.7],\n",
    "])\n",
    "\n",
    "y_train = torch.tensor([0, 0, 0, 1, 1, 1])\n",
    "\n",
    "x_test = torch.tensor([\n",
    "    [1.0, 2.2],\n",
    "    [3.4, -0.5],\n",
    "    [-0.2, 2.4], \n",
    "    [3.5, -7.7],\n",
    "    ])\n",
    "\n",
    "y_test = torch.tensor([0,0,1,1])\n",
    "\n",
    "train_ds = ToyDataset(x_train, y_train)\n",
    "test_ds = ToyDataset(x_test, y_test)    "
   ]
  },
  {
   "cell_type": "code",
   "execution_count": 5,
   "metadata": {},
   "outputs": [],
   "source": [
    "train_dataloader = DataLoader(\n",
    "    batch_size = 3,\n",
    "    shuffle = False,\n",
    "    dataset = train_ds,\n",
    "    num_workers = 0\n",
    ")\n",
    "\n",
    "test_dataloader = DataLoader(\n",
    "    batch_size = 3,\n",
    "    shuffle = False,\n",
    "    dataset = test_ds,\n",
    "    num_workers = 0\n",
    ")"
   ]
  },
  {
   "cell_type": "code",
   "execution_count": 6,
   "metadata": {},
   "outputs": [
    {
     "name": "stdout",
     "output_type": "stream",
     "text": [
      "batch 1: tensor([[ 1.0000,  2.2000],\n",
      "        [ 3.4000, -0.5000],\n",
      "        [ 4.3000,  6.0000]]) tensor([0, 0, 0])\n",
      "batch 2: tensor([[ 1.2000,  3.9000],\n",
      "        [-0.2000,  2.4000],\n",
      "        [ 3.5000, -7.7000]]) tensor([1, 1, 1])\n",
      "batch 1: tensor([[ 1.0000,  2.2000],\n",
      "        [ 3.4000, -0.5000],\n",
      "        [-0.2000,  2.4000]]) tensor([0, 0, 1])\n",
      "batch 2: tensor([[ 3.5000, -7.7000]]) tensor([1])\n"
     ]
    }
   ],
   "source": [
    "for idx, (x, y) in enumerate(train_dataloader):\n",
    "    print(f\"batch {idx+1}:\", x, y)\n",
    "    \n",
    "for idx, (x, y) in enumerate(test_dataloader):\n",
    "    print(f\"batch {idx+1}:\", x, y)"
   ]
  },
  {
   "cell_type": "code",
   "execution_count": 8,
   "metadata": {},
   "outputs": [
    {
     "name": "stdout",
     "output_type": "stream",
     "text": [
      "cuda\n",
      "train loss: 0.75\n",
      "train loss: 0.99\n",
      "eval loss: 0.70\n",
      "accuracy: 0.333333\n",
      "eval loss: 0.60\n",
      "accuracy: 0.500000\n",
      "train loss: 0.69\n",
      "train loss: 0.79\n",
      "eval loss: 0.67\n",
      "accuracy: 0.666667\n",
      "eval loss: 0.40\n",
      "accuracy: 0.750000\n",
      "train loss: 0.63\n",
      "train loss: 0.70\n",
      "eval loss: 0.65\n",
      "accuracy: 0.666667\n",
      "eval loss: 0.31\n",
      "accuracy: 0.750000\n"
     ]
    }
   ],
   "source": [
    "import torch.nn.functional as F\n",
    "\n",
    "torch.manual_seed(123)\n",
    "device = torch.device(\"cuda\" if torch.cuda.is_available() else \"cpu\")\n",
    "print(device)\n",
    "\n",
    "model = NeuralNetwork(num_inputs=2, num_outputs=2).to(device)\n",
    "optimizer = torch.optim.SGD(model.parameters(), lr = 0.05)\n",
    "num_epoch = 3\n",
    "\n",
    "for num in range(num_epoch):\n",
    "    model.train()\n",
    "    for idx, (x, y) in enumerate(train_dataloader):\n",
    "        \n",
    "        x = x.to(device)\n",
    "        y = y.to(device)\n",
    "        \n",
    "        logits = model(x)\n",
    "        loss = F.cross_entropy(logits, y)\n",
    "        \n",
    "        optimizer.zero_grad()\n",
    "        loss.backward()\n",
    "        optimizer.step()\n",
    "        \n",
    "        print(f\"train loss: {loss:.2f}\") \n",
    "    \n",
    "    model.eval()   \n",
    "    correct = 0.0\n",
    "    total_ex = 0\n",
    "    with torch.no_grad():\n",
    "        for idx, (x, y) in enumerate(test_dataloader):\n",
    "                    \n",
    "            x = x.to(device)\n",
    "            y = y.to(device)\n",
    "        \n",
    "            logits = model(x)\n",
    "            loss = F.cross_entropy(logits, y)\n",
    "            \n",
    "            print(f\"eval loss: {loss:.2f}\") \n",
    "            \n",
    "            prediction = torch.argmax(logits, dim=1)\n",
    "            compare = prediction == y\n",
    "            correct += torch.sum(compare)\n",
    "            total_ex += len(compare)\n",
    "            \n",
    "            print(f\"accuracy: {(correct/total_ex).item():2f}\")\n",
    "            \n",
    "\n",
    "        \n",
    "        \n"
   ]
  },
  {
   "cell_type": "code",
   "execution_count": null,
   "metadata": {},
   "outputs": [],
   "source": []
  }
 ],
 "metadata": {
  "kernelspec": {
   "display_name": "llm_scratch",
   "language": "python",
   "name": "python3"
  },
  "language_info": {
   "codemirror_mode": {
    "name": "ipython",
    "version": 3
   },
   "file_extension": ".py",
   "mimetype": "text/x-python",
   "name": "python",
   "nbconvert_exporter": "python",
   "pygments_lexer": "ipython3",
   "version": "3.11.10"
  }
 },
 "nbformat": 4,
 "nbformat_minor": 2
}
